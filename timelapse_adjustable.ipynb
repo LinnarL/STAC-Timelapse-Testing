{
 "cells": [
  {
   "cell_type": "code",
   "execution_count": 1,
   "metadata": {},
   "outputs": [],
   "source": [
    "# --- IMPORTS ---\n",
    "import numpy as np\n",
    "import stackstac\n",
    "import pystac_client\n",
    "import planetary_computer\n",
    "import dask.array as da\n",
    "from dask.distributed import Client, LocalCluster\n",
    "from urllib3.util.retry import Retry\n",
    "from dask.diagnostics import ProgressBar\n",
    "import xarray as xr\n",
    "import matplotlib.pyplot as plt\n",
    "import ipyleaflet\n",
    "\n",
    "\n",
    "# --- PARAMETERS ---\n",
    "# Choose how to group the time dimension: \"month\", \"week\", or \"year\"\n",
    "time_grouping = \"month\"  # Options: \"month\", \"week\", \"year\"\n",
    "spatial_resolution = 50  # Spatial resolution in meters\n",
    "bands_to_load = ['B02', 'B03', 'B04', 'SCL']  # Blue, Green, Red, Scene Classification\n",
    "local_cluster = False  # Set to False if using Coiled"
   ]
  },
  {
   "cell_type": "code",
   "execution_count": null,
   "metadata": {},
   "outputs": [],
   "source": [
    "\n",
    "# --- DASK CLUSTER SETUP ---\n",
    "if local_cluster:\n",
    "    cluster = LocalCluster()\n",
    "    client = Client(cluster)\n",
    "else:\n",
    "    import coiled\n",
    "    cluster = coiled.Cluster(name=\"Timelapse\", shutdown_on_close=True)\n",
    "    cluster.adapt(n_workers=1, maximum=8)\n",
    "    client = cluster.get_client()\n"
   ]
  },
  {
   "cell_type": "code",
   "execution_count": null,
   "metadata": {},
   "outputs": [],
   "source": [
    "\n",
    "# --- MAP FOR BOUNDING BOX SELECTION ---\n",
    "m = ipyleaflet.Map(scroll_wheel_zoom=True)\n",
    "m.center = (41.64933994767867, -69.94438630063088)\n",
    "m.zoom = 12\n",
    "m.layout.height = \"500px\"\n",
    "m.layout.width = \"500px\"\n",
    "display(m)\n"
   ]
  },
  {
   "cell_type": "code",
   "execution_count": 5,
   "metadata": {},
   "outputs": [],
   "source": [
    "\n",
    "# Wait for user to select area, then get bounding box\n",
    "# (You may want to add a widget for interactive selection in a real workflow)\n",
    "bounding_box = (m.west, m.south, m.east, m.north)\n"
   ]
  },
  {
   "cell_type": "code",
   "execution_count": null,
   "metadata": {},
   "outputs": [],
   "source": [
    "\n",
    "# --- LOAD DATA FROM PLANETARY COMPUTER ---\n",
    "catalog = pystac_client.Client.open(\n",
    "    \"https://planetarycomputer.microsoft.com/api/stac/v1\",\n",
    "    modifier=planetary_computer.sign_inplace,\n",
    ")\n",
    "\n",
    "search = catalog.search(\n",
    "    collections=[\"sentinel-2-l2a\"],\n",
    "    bbox=bounding_box,\n",
    "    datetime=\"2024-01-01/2024-12-31\"\n",
    ")\n",
    "items = search.item_collection()\n",
    "print(f\"Found {len(items)} items in the selected area and time range.\")\n"
   ]
  },
  {
   "cell_type": "code",
   "execution_count": null,
   "metadata": {},
   "outputs": [],
   "source": [
    "\n",
    "# Stack the data using stackstac\n",
    "data = stackstac.stack(\n",
    "    items,\n",
    "    assets=bands_to_load,\n",
    "    resolution=spatial_resolution,\n",
    "    epsg=3857,\n",
    "    bounds_latlon=bounding_box,\n",
    ")\n",
    "\n",
    "print(\"Array size information:\")\n",
    "print(f\"Shape: {data.shape}\")\n",
    "print(f\"Size in bytes: {data.data.nbytes}\")\n",
    "print(f\"Size in GB: {data.data.nbytes / 1e9:.2f} GB\")\n",
    "print(f\"Number of chunks: {data.data.npartitions}\")\n",
    "print(f\"Chunksize: {(data.data.nbytes / data.data.npartitions) / 1e6:.2f} MB\")\n",
    "\n",
    "data\n"
   ]
  },
  {
   "cell_type": "code",
   "execution_count": null,
   "metadata": {},
   "outputs": [],
   "source": [
    "client.cluster.scale(6)\n",
    "print(\"Scaled the cluster to 6 workers.\")\n",
    "\n",
    "# Establish SCL band on its own\n",
    "scl_band = data.sel(band='SCL')\n",
    "\n",
    "# Classes to discard (i.e clouds or defective pixels)\n",
    "cloudy_classes = [3, 8, 9, 10, 11]\n",
    "\n",
    "# Cloud mask, i.e where pixels are not cloudy\n",
    "cloud_mask = scl_band.isin(cloudy_classes)\n",
    "\n",
    "daily_cloud_mask_frac = cloud_mask.resample(time='1D').mean(dim='time', skipna = True)\n",
    "daily_cloud_score = daily_cloud_mask_frac.mean(dim=[\"x\", \"y\"]).compute()\n",
    "grouping_accessor = getattr(daily_cloud_score.time.dt, time_grouping)\n",
    "\n",
    "best_daily_timestamps = daily_cloud_score.groupby(grouping_accessor).map(lambda x: x.idxmin())\n",
    "\n",
    "data_days = data.time.dt.floor('D')\n",
    "\n",
    "mask_best_days = data_days.isin(best_daily_timestamps)\n",
    "\n",
    "filtered_data = data.where(mask_best_days, drop=True)\n",
    "\n",
    "scl_band = filtered_data.sel(band='SCL')\n",
    "\n",
    "cloud_mask = scl_band.isin(cloudy_classes)\n",
    "\n",
    "filtered_data = filtered_data.where(~cloud_mask)\n",
    "\n",
    "rgb_composites = filtered_data.sel(band=['B02', 'B03', 'B04']).resample(time='1d').median(skipna=True, keep_attrs=True)\n",
    "\n",
    "rgb_composites = rgb_composites.dropna(dim='time', how = 'all')\n",
    "\n",
    "# Import geogif for creating animated GIFs from geospatial data\n",
    "import geogif\n",
    "\n",
    "geogif = geogif.dgif(rgb_composites, fps=4)\n",
    "geogif.compute()\n",
    "\n",
    "client.cluster.scale(1)"
   ]
  },
  {
   "cell_type": "code",
   "execution_count": null,
   "metadata": {},
   "outputs": [],
   "source": [
    "geogif.compute()"
   ]
  },
  {
   "cell_type": "code",
   "execution_count": null,
   "metadata": {},
   "outputs": [],
   "source": [
    "# # Compute the 2nd and 98th percentiles for all data in rgb_composites\n",
    "# global_min = rgb_composites.quantile(0.02).compute()\n",
    "# global_max = rgb_composites.quantile(0.98).compute()\n",
    "\n",
    "# # Plot with consistent vmin and vmax across all subplots using percentiles\n",
    "# rgb_composites.plot.imshow(\n",
    "#     col=\"time\", \n",
    "#     rgb=\"band\", \n",
    "#     col_wrap=5,\n",
    "#     vmin=global_min,\n",
    "#     vmax=global_max\n",
    "# )"
   ]
  },
  {
   "cell_type": "code",
   "execution_count": null,
   "metadata": {},
   "outputs": [],
   "source": [
    "# rgb_composites = rgb_composites.ffill(\"time\").bfill(\"time\")\n",
    "\n",
    "# # Plot with consistent vmin and vmax across all subplots using percentiles\n",
    "# rgb_composites.plot.imshow(\n",
    "#     col=\"time\", \n",
    "#     rgb=\"band\", \n",
    "#     col_wrap=5,\n",
    "#     vmin=global_min,\n",
    "#     vmax=global_max\n",
    "# )"
   ]
  },
  {
   "cell_type": "code",
   "execution_count": null,
   "metadata": {},
   "outputs": [],
   "source": []
  }
 ],
 "metadata": {
  "kernelspec": {
   "display_name": "my_clean_env",
   "language": "python",
   "name": "python3"
  },
  "language_info": {
   "codemirror_mode": {
    "name": "ipython",
    "version": 3
   },
   "file_extension": ".py",
   "mimetype": "text/x-python",
   "name": "python",
   "nbconvert_exporter": "python",
   "pygments_lexer": "ipython3",
   "version": "3.11.12"
  }
 },
 "nbformat": 4,
 "nbformat_minor": 2
}
